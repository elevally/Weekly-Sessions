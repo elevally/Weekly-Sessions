{
 "cells": [
  {
   "cell_type": "markdown",
   "metadata": {},
   "source": [
    "# Weekly Session 7 \n",
    "\n",
    "## Directions: \n",
    "Quickly read through this notebook.  The format differs slightly - Basically the homework/interactive practice and lab is also in the notebook, \n",
    "* Exercise 3 is the interactive practice for Wednesday\n",
    "* Exercise 5 and onward is the **lab** for Thursday (no revision cycle this week).\n",
    "\n",
    "## Goals\n",
    "\n",
    "* Explore python features for error handling\n",
    "* Work more with lists, arrays and matrices\n",
    "* Apply numpy built-in matrix methods to perform matrix manipulations\n",
    "* Play with the numpy animation module and animate Newman's Example 6.2\n",
    "\n",
    "### Reading \n",
    "Newman Section 6.1 as outlined on GitHub"
   ]
  },
  {
   "cell_type": "code",
   "execution_count": 1,
   "metadata": {},
   "outputs": [
    {
     "data": {
      "text/html": [
       "<style>\n",
       "div.warn {\n",
       "    background-color: black;\n",
       "    border-color: #dFb5b4;\n",
       "    border-left: 5px solid #dfb5b4;\n",
       "    padding: 0.5em\n",
       "    color: white;\n",
       "    }\n",
       " </style>\n",
       "\n",
       " <style>\n",
       " div.answer {\n",
       "     background-color: lightblue;\n",
       "     border-color: #dFb5b4;\n",
       "     border-left: 5px solid #dfb5b4;\n",
       "     padding: 0.5em\n",
       "     }\n",
       "  </style>\n"
      ],
      "text/plain": [
       "<IPython.core.display.HTML object>"
      ]
     },
     "execution_count": 1,
     "metadata": {},
     "output_type": "execute_result"
    }
   ],
   "source": [
    "#For colored cells, currently black cells, white text is added in Markdown\n",
    "#https://stackoverflow.com/questions/18024769/adding-custom-styled-paragraphs-in-markdown-cells\n",
    "from IPython.core.display import HTML\n",
    "def css_styling():\n",
    "    styles = open(\"style.css\", \"r\").read()\n",
    "    return HTML(styles)\n",
    "css_styling()"
   ]
  },
  {
   "cell_type": "markdown",
   "metadata": {},
   "source": [
    "<div class=answer>\n",
    "*This should be a blue cell with black font if you set the filepath correctly*</font>\n",
    "<div/>"
   ]
  },
  {
   "cell_type": "markdown",
   "metadata": {},
   "source": [
    "## Exercise 0: Error and Exceptions\n",
    "In the course of debugging we encounter a lot of error messages.  In Runestone you read about these messages, but it has been a while.  Let's go back and have a look at the Runestone definitions (quoted directly from the following sections): \n",
    "\n",
    "[1.7. Syntax errors](https://runestone.academy/runestone/static/PHY325/GeneralIntro/Syntaxerrors.html)\n",
    "Python can only execute a program if the program is syntactically correct; otherwise, the process fails and returns an error message. Syntax refers to the structure of a program and the rules about that structure. \n",
    "\n",
    "[1.8. Runtime Errors](https://runestone.academy/runestone/static/PHY325/GeneralIntro/RuntimeErrors.html)\n",
    "The second type of error is a runtime error, so called because the error does not appear until you run the program. These errors are also called **exceptions** because they usually indicate that something exceptional (and bad) has happened.\n",
    "\n",
    "[1.9. Semantic Errors](https://runestone.academy/runestone/static/PHY325/GeneralIntro/SemanticErrors.html)\n",
    "The third type of error is the semantic error. If there is a semantic error in your program, it will run successfully in the sense that the computer will not generate any error messages. However, your program will not do the right thing. It will do something else. Specifically, it will do what you told it to do.\n",
    "\n",
    "We have all been generating plenty of these errors this semester (including me!).  It is a great time to explore a particular common error time, the ```ValueError```. It is defined in Runestone's all important [Know your error messages](https://runestone.academy/runestone/static/PHY325/Debugging/KnowyourerrorMessages.html)  page.\n",
    "\n",
    "\n",
    "**[3.4.4. ValueError](https://runestone.academy/runestone/static/PHY325/Debugging/KnowyourerrorMessages.html)\n",
    "Value errors occur when you pass a parameter to a function and the function is expecting a certain limitations on the values, and the value passed is not compatible.**\n",
    "\n",
    "**READ THE COMMENTS BEFORE RUNNING THE CODE**"
   ]
  },
  {
   "cell_type": "code",
   "execution_count": 2,
   "metadata": {},
   "outputs": [
    {
     "name": "stdout",
     "output_type": "stream",
     "text": [
      "How many bugs are in your code (in number 0-1000)?9\n",
      "\n",
      "You have  9 bugs\n"
     ]
    }
   ],
   "source": [
    "### A take on Runestone's example on ValueErrors\n",
    "### Run the program but instead of typing in anything to the dialog box \n",
    "### just click OK. \n",
    "### You should see the following error message: \n",
    "### ValueError: invalid literal for int() with base 10: '' on line: 4\n",
    "\n",
    "bug_str = input(\"How many bugs are in your code (in number 0-1000)?\")\n",
    "\n",
    "if bug_str == \"\":\n",
    "    print(\"You forgot to input a value\")\n",
    "    \n",
    "else:\n",
    "    bug_int = int(bug_str)\n",
    "    \n",
    "print()\n",
    "print(\"You have \", bug_int, \"bugs\")"
   ]
  },
  {
   "cell_type": "markdown",
   "metadata": {},
   "source": [
    "<div class=answer>\n",
    "**How could you modify the code above to anticipate the value error and avoid it?**  \n",
    "Do so, and see if your modification works.\n",
    "*I'm assuming you will use an if/else statement, but if you have other ideas, that's fine!.*\n",
    "<div/>"
   ]
  },
  {
   "cell_type": "markdown",
   "metadata": {},
   "source": [
    "### Try/Except statements\n",
    "When I mentioned \"other ideas\" above, I was refering to python's formal manner for handling anticipated exceptions.  Python has a built in manner to write programs that handle selected exceptions.  See the code below for a ```try/except``` example, which comes from the python documentation:\n",
    "[https://docs.python.org/2/tutorial/errors.html](https://docs.python.org/2/tutorial/errors.html)"
   ]
  },
  {
   "cell_type": "code",
   "execution_count": 3,
   "metadata": {},
   "outputs": [
    {
     "name": "stdout",
     "output_type": "stream",
     "text": [
      "Please enter a number: 9\n"
     ]
    }
   ],
   "source": [
    "#try/except example\n",
    "\n",
    "while True:\n",
    "    try:\n",
    "        x = int(input(\"Please enter a number: \"))\n",
    "        break\n",
    "    except ValueError:\n",
    "        print(\"Oops!  That was no valid number.  Try again...\")"
   ]
  },
  {
   "cell_type": "markdown",
   "metadata": {},
   "source": [
    "\n",
    "<div class=answer>\n",
    "1.  **What does the code above do?**  Describe it in your own words, but you're welcome to  take a quick peak at the python documentation to get a better idea.\n",
    "\n",
    "This code asks for a number, it checks to see if what you entered is an integer, and if it is not then it returns the message \"Oops!  That was no valid number.  Try again...\"  and then repeats until you enter an integer.\n",
    "\n",
    "2.  **Modify the \"bug\" code above to anticipate the value error and avoid it using a try/except statement.**   \n",
    "Please do this below so you can see both codes.\n",
    "<div/>"
   ]
  },
  {
   "cell_type": "code",
   "execution_count": 4,
   "metadata": {},
   "outputs": [
    {
     "name": "stdout",
     "output_type": "stream",
     "text": [
      "How many bugs are in your code (in number 0-1000)? 9\n",
      "You have  9 bugs\n"
     ]
    }
   ],
   "source": [
    "while True:\n",
    "    try: \n",
    "        bug_int = int(input(\"How many bugs are in your code (in number 0-1000)? \"))\n",
    "        print(\"You have \", bug_int, \"bugs\")\n",
    "        break\n",
    "    except ValueError:\n",
    "        print(\"Oops! You forgot to enter the number of bugs.\")"
   ]
  },
  {
   "cell_type": "markdown",
   "metadata": {},
   "source": [
    "### Raising ValueErrors\n",
    "Python's error handling built in functions also have the ```raise``` command.  For instance try running the following code so that it raises a value error.  You don't need to do anything with this example quite yet, but ** use this code in the next exericse when you build your own matrix methods** - you are welcome to modify it to suit your preferences."
   ]
  },
  {
   "cell_type": "code",
   "execution_count": 5,
   "metadata": {},
   "outputs": [
    {
     "name": "stdout",
     "output_type": "stream",
     "text": [
      "Please enter a number dimension A: 4\n",
      "Please enter a number dimension B: 4\n"
     ]
    }
   ],
   "source": [
    "dimension_A = int(input(\"Please enter a number dimension A: \"))\n",
    "dimension_B = int(input(\"Please enter a number dimension B: \"))\n",
    "\n",
    "        \n",
    "if (dimension_A != dimension_B):\n",
    "    raise ValueError(\"matrix dimensions incompatible\")"
   ]
  },
  {
   "cell_type": "markdown",
   "metadata": {},
   "source": [
    "## Exercise 1: Matrices as Nested Lists\n",
    "\n",
    "You will be using matrix routines for the rest of your life (or your life in computational\n",
    "physics, at least). It helps to understand how they work, and you will\n",
    "develop your own matrix routines this week. So let us start with the basics, and write ourselves a nice little library of matrix routines!  For now, we are still representing two-dimensional arrays as nested lists, rather than numpy arrays.\n",
    "\n",
    "**Add a matrixB to the code block below so you have some sample data to work with.**"
   ]
  },
  {
   "cell_type": "code",
   "execution_count": 6,
   "metadata": {},
   "outputs": [
    {
     "name": "stdout",
     "output_type": "stream",
     "text": [
      "3\n"
     ]
    }
   ],
   "source": [
    "##Example matrices - as lists\n",
    "A = [[1, 2, 3, 4],\n",
    "    [5, 6, 7, 8],\n",
    "    [9, 10, 11, 12],\n",
    "    ]\n",
    "\n",
    "#Add a matrixB of your choice:\n",
    "B = [[12, 11, 10, 9],\n",
    "    [8, 7, 6, 5],\n",
    "    [4, 3, 2],\n",
    "    ]\n",
    "\n",
    "print(len(A))"
   ]
  },
  {
   "cell_type": "markdown",
   "metadata": {},
   "source": [
    "### Matrix Dimensions\n",
    "<div class=answer>\n",
    "<div/>\n",
    "Wouldn't it be nice to be able to find out the dimension of a matrix? Write a function\n",
    "dimension which, given an m $\\times$ n matrix, returns the dimensions as a tuple ```(m,n)```. \n",
    "\n",
    "Hint: Remember the ```len()``` function.\n",
    "\n",
    "*If you are ready to think like a computer scientist, read the directions below the code cell BEFORE you proceed.*"
   ]
  },
  {
   "cell_type": "code",
   "execution_count": 7,
   "metadata": {},
   "outputs": [
    {
     "ename": "ValueError",
     "evalue": "matrix dimensions incompatible",
     "output_type": "error",
     "traceback": [
      "\u001b[1;31m---------------------------------------------------------------------------\u001b[0m",
      "\u001b[1;31mValueError\u001b[0m                                Traceback (most recent call last)",
      "\u001b[1;32m<ipython-input-7-e6317bbf259a>\u001b[0m in \u001b[0;36m<module>\u001b[1;34m()\u001b[0m\n\u001b[0;32m     14\u001b[0m \u001b[1;33m\u001b[0m\u001b[0m\n\u001b[0;32m     15\u001b[0m \u001b[1;33m\u001b[0m\u001b[0m\n\u001b[1;32m---> 16\u001b[1;33m \u001b[0mdimension\u001b[0m\u001b[1;33m(\u001b[0m\u001b[0mB\u001b[0m\u001b[1;33m)\u001b[0m\u001b[1;33m\u001b[0m\u001b[0m\n\u001b[0m",
      "\u001b[1;32m<ipython-input-7-e6317bbf259a>\u001b[0m in \u001b[0;36mdimension\u001b[1;34m(matrix)\u001b[0m\n\u001b[0;32m     10\u001b[0m         \u001b[0mn\u001b[0m \u001b[1;33m=\u001b[0m \u001b[0mlen\u001b[0m\u001b[1;33m(\u001b[0m\u001b[0mmatrix\u001b[0m\u001b[1;33m[\u001b[0m\u001b[0mi\u001b[0m\u001b[1;33m]\u001b[0m\u001b[1;33m)\u001b[0m\u001b[1;33m\u001b[0m\u001b[0m\n\u001b[0;32m     11\u001b[0m         \u001b[1;32mif\u001b[0m \u001b[0mlen\u001b[0m\u001b[1;33m(\u001b[0m\u001b[0mmatrix\u001b[0m\u001b[1;33m[\u001b[0m\u001b[0mi\u001b[0m\u001b[1;33m]\u001b[0m\u001b[1;33m)\u001b[0m \u001b[1;33m!=\u001b[0m \u001b[0mlen\u001b[0m\u001b[1;33m(\u001b[0m\u001b[0mmatrix\u001b[0m\u001b[1;33m[\u001b[0m\u001b[1;36m0\u001b[0m\u001b[1;33m]\u001b[0m\u001b[1;33m)\u001b[0m\u001b[1;33m:\u001b[0m\u001b[1;33m\u001b[0m\u001b[0m\n\u001b[1;32m---> 12\u001b[1;33m             \u001b[1;32mraise\u001b[0m \u001b[0mValueError\u001b[0m\u001b[1;33m(\u001b[0m\u001b[1;34m\"matrix dimensions incompatible\"\u001b[0m\u001b[1;33m)\u001b[0m\u001b[1;33m\u001b[0m\u001b[0m\n\u001b[0m\u001b[0;32m     13\u001b[0m     \u001b[1;32mreturn\u001b[0m\u001b[1;33m(\u001b[0m\u001b[0mm\u001b[0m\u001b[1;33m,\u001b[0m\u001b[0mn\u001b[0m\u001b[1;33m)\u001b[0m\u001b[1;33m\u001b[0m\u001b[0m\n\u001b[0;32m     14\u001b[0m \u001b[1;33m\u001b[0m\u001b[0m\n",
      "\u001b[1;31mValueError\u001b[0m: matrix dimensions incompatible"
     ]
    }
   ],
   "source": [
    "import numpy as np\n",
    "\n",
    "def dimension(matrix):\n",
    "    \n",
    "    '''This function inputs a predefined matrix, and outputs the dimensions of the matrix, or returns a value error\n",
    "    if the matrix is not rectangular.'''\n",
    "    \n",
    "    m = len(matrix)\n",
    "    for i in range(m):\n",
    "        n = len(matrix[i])\n",
    "        if len(matrix[i]) != len(matrix[0]):\n",
    "            raise ValueError(\"matrix dimensions incompatible\")\n",
    "    return(m,n)  \n",
    "    \n",
    "\n",
    "dimension(B)\n"
   ]
  },
  {
   "cell_type": "markdown",
   "metadata": {},
   "source": [
    "### Thinking like a computer scientist\n",
    "\n",
    "When you write your dimension function, the easy way out would be to just assume\n",
    "that the argument is a valid \"rectangular\" nested list, i.e., with the same number of\n",
    "entries in each row. But can you actually check this? A little bit of **validation** on your data can go a long way towards saving you debugging time later! For instance, your function\n",
    "should complain if you give it the \"matrix\"\n",
    "```python\n",
    "[\n",
    "[1,2,3],\n",
    "[4,5]\n",
    "]\n",
    "```\n",
    "**Add to your code above method of testing that the matrix is well formatted.**\n",
    "Let's have your function to crash with a slick Python-style error message, have it raise an exceptions by creating a ValueError exception. You should use an appropriate error string explaining what the problem was with the dimensions. "
   ]
  },
  {
   "cell_type": "markdown",
   "metadata": {},
   "source": [
    "### Generating Matrices \n",
    "We also need to be able to generate matrices. We have done this two ways:\n",
    "* \"list oriented\" i.e., starting from and empty list and then appending entries. \n",
    "* A declaration as above\n",
    "\n",
    "But, traditionally, you would start from an array which already has been created, with the right dimensions, and then you would fill in the entries one by one. \n",
    "\n",
    "<div class=answer>\n",
    "<div/>\n",
    "So, in the spirit of ```numpy.zeros```, write a function zeros which takes a tuple ```(m,n)``` as its argument and returns an $m\\times n$ matrix of zeros."
   ]
  },
  {
   "cell_type": "code",
   "execution_count": 8,
   "metadata": {
    "collapsed": true
   },
   "outputs": [],
   "source": [
    "def zeros(m,n):\n",
    "    '''This function takes inputs m and n and returns a matrix of zeroes'''\n",
    "    return np.zeros([m,n], int)"
   ]
  },
  {
   "cell_type": "markdown",
   "metadata": {},
   "source": [
    "\n",
    "While we are at it, let's write a function ```identity()```, which makes an $n\\times n$ identity matrix.  If you need a reminder/lesson, the identity matrix is: \n",
    "$$\n",
    "I_3 = \\left[ \\begin{array}{cccc}\n",
    "1 & 0 & 0  \\\\\n",
    "0 & 1 & 0 \\\\\n",
    "0 & 0 & 1 \\\\ \\end{array} \\right]\n",
    "$$\n",
    "\n",
    "Since the identity matrix is square, you need just one number n as an argument.  Also, be sure NOT to duplicate work you've already done.  Be lazy."
   ]
  },
  {
   "cell_type": "code",
   "execution_count": 9,
   "metadata": {},
   "outputs": [
    {
     "data": {
      "text/plain": [
       "[[1, 0, 0, 0, 0],\n",
       " [0, 1, 0, 0, 0],\n",
       " [0, 0, 1, 0, 0],\n",
       " [0, 0, 0, 1, 0],\n",
       " [0, 0, 0, 0, 1]]"
      ]
     },
     "execution_count": 9,
     "metadata": {},
     "output_type": "execute_result"
    }
   ],
   "source": [
    "\n",
    "def identity(n):\n",
    "    '''This function takes in the dimension of an array and returns the identity matrix in the form of a list.'''\n",
    "    \n",
    "    matrix = np.zeros([n,n], int)\n",
    "\n",
    "    for i in range(n):\n",
    "        for j in range(n):\n",
    "            if i == j:\n",
    "                matrix[i,j] = 1\n",
    "                \n",
    "    return matrix.tolist()\n",
    "\n",
    "identity(5)"
   ]
  },
  {
   "cell_type": "markdown",
   "metadata": {},
   "source": [
    "### Matrix Arithmetic\n",
    "\n",
    "As you either already know from other physics/math courses, or will shortly, one of the basic things you can do to a matrix ```A``` is multiply it by a scalar ```k```. That is, the $(i,j)$th entry of the product matrix, let's call it ```C```, is defined by\n",
    "$$\n",
    "C_{i,j} = k\\ A_{i,j}\n",
    "$$\n",
    "<div class=answer>\n",
    "Write a function ```scalar_mult``` which multiplies a matrix by a scalar, returning a new matrix.\n",
    "<div/>"
   ]
  },
  {
   "cell_type": "code",
   "execution_count": 10,
   "metadata": {},
   "outputs": [
    {
     "name": "stdout",
     "output_type": "stream",
     "text": [
      "The matrix [[1 2 3]\n",
      " [4 5 6]\n",
      " [7 8 9]] multiplied by the scalar 3 is [[ 3  6  9]\n",
      " [12 15 18]\n",
      " [21 24 27]]\n"
     ]
    }
   ],
   "source": [
    "def scalar_mult(scalar, matrix):\n",
    "    return scalar*matrix\n",
    "  \n",
    "scalar = 3\n",
    "matrix = np.array([[1,2,3],\n",
    "                  [4,5,6],\n",
    "                  [7,8,9]])\n",
    "\n",
    "C = scalar_mult(scalar, matrix)\n",
    "print(\"The matrix\", matrix, \"multiplied by the scalar\", scalar, \"is\", C)\n"
   ]
  },
  {
   "cell_type": "markdown",
   "metadata": {},
   "source": [
    "If we have two matrices ```A``` and ```B``` of the same dimensions, we also can compute their sum.\n",
    "That is, in terms of the entries, the $(i,j)$ th entry of the sum ```C``` is defined by\n",
    "$$\n",
    "C_{ij} =  A_{ij} + B_{ij} \n",
    "$$\n",
    "\n",
    "<div class=answer>\n",
    "Write a function ```add()```, which takes two matrices, and returns their sum. It should check that the dimensions of the two matrices A and B are compatible, and generate an error message (that is, an exception) if not.\n",
    "<div/>"
   ]
  },
  {
   "cell_type": "code",
   "execution_count": 11,
   "metadata": {},
   "outputs": [
    {
     "data": {
      "text/plain": [
       "array([[ 4,  8, 12],\n",
       "       [16, 20, 24],\n",
       "       [28, 32, 36]])"
      ]
     },
     "execution_count": 11,
     "metadata": {},
     "output_type": "execute_result"
    }
   ],
   "source": [
    "def add(matrixA, matrixB):\n",
    "    return matrixA + matrixB\n",
    "\n",
    "add(C, matrix)"
   ]
  },
  {
   "cell_type": "markdown",
   "metadata": {},
   "source": [
    "You knew this was coming, didn't you. The product of an $m \\times r$ matrix $A$ and an $r \\times n$ matrix $B$ is an $m \\times n$ matrix with entries given by\n",
    "$$\n",
    "C_{ik} = \\sum_{j=1}^r A_{ij} B_{jk}\n",
    "$$\n",
    "\n",
    "In case you are rusty (or haven't learned it yet), try multiplying on a whiteboard:\n",
    "\n",
    "$$\n",
    "\\begin{bmatrix}\n",
    "1 & 2 & -1\\\\\n",
    "3 & 0 & 2\n",
    "\\end{bmatrix}\n",
    "\\begin{bmatrix}\n",
    "1 & 2 \\\\\n",
    "7 & 0 \\\\\n",
    "-1 & 3\n",
    "\\end{bmatrix}\n",
    "=\n",
    "\\begin{bmatrix}\n",
    "\\quad & \\quad \\\\\n",
    "&\n",
    "\\end{bmatrix}.\n",
    "$$\n",
    "\n",
    "<div class=answer>\n",
    "Write a function ```mult``` which multiplies two matrices, returning a new matrix. It should check that the dimensions of the two matrices $A$ and $B$ are compatible, and generate an exception if not. Try it out with the example product shown above.\n",
    "<div/>"
   ]
  },
  {
   "cell_type": "code",
   "execution_count": 12,
   "metadata": {},
   "outputs": [
    {
     "data": {
      "text/plain": [
       "array([[16, -1],\n",
       "       [ 1, 12]])"
      ]
     },
     "execution_count": 12,
     "metadata": {},
     "output_type": "execute_result"
    }
   ],
   "source": [
    "def mult(matrixA, matrixB):\n",
    "    \n",
    "   \n",
    "    (mA, nA) = dimension(matrixA)\n",
    "    (mB, nB) = dimension(matrixB)\n",
    "    result = zeros(mA, nB)\n",
    "    \n",
    "    \n",
    "    if nA != mB:\n",
    "         raise ValueError(\"matrix dimensions incompatible\")\n",
    "            \n",
    "    for i in range(mA):\n",
    "        for j in range(nB):\n",
    "            for k in range(mB):\n",
    "                result[i][j] += matrixA[i][k]*matrixB[k][j]\n",
    "                \n",
    "    return result\n",
    "            \n",
    "matrixA = [[1,2,-1],\n",
    "          [3,0,2]]\n",
    "\n",
    "matrixB = [[1,2],\n",
    "          [7, 0],\n",
    "          [-1, 3]]\n",
    "\n",
    "mult(matrixA, matrixB)\n",
    "    \n",
    "        \n",
    "    "
   ]
  },
  {
   "cell_type": "markdown",
   "metadata": {},
   "source": [
    "## Exercise 2 - Numpy Matrices\n",
    "\n",
    "Let's run through the tasks in Exercise 1, but this time with the numpy matrix methods.  Here is the [link](https://docs.scipy.org/doc/numpy1.14.0/reference/generated/numpy.matrix.html)\n",
    "to the basic documentation.  To get you started, here are the numpy way to generate matrices.  Add a second matrix to practice with."
   ]
  },
  {
   "cell_type": "code",
   "execution_count": 13,
   "metadata": {
    "collapsed": true
   },
   "outputs": [],
   "source": [
    "#Declaring new matrix variabls\n",
    "import numpy as np\n",
    "\n",
    "a = np.matrix([[1, 2, 3, 4],\n",
    "               [5, 6, 7, 8],\n",
    "               [9, 10, 11, 12],])\n",
    "\n",
    "#Your matrix here:\n",
    "b = np.matrix([[7,6,9,12],\n",
    "              [1,5,3,2],\n",
    "              [9,10,13,15],])"
   ]
  },
  {
   "cell_type": "markdown",
   "metadata": {},
   "source": [
    "Play around with the list of attributes in the [link](https://docs.scipy.org/doc/numpy-1.14.0/reference/generated/numpy.matrix.html).  For instance, what does ```a.shape``` do?"
   ]
  },
  {
   "cell_type": "code",
   "execution_count": 14,
   "metadata": {},
   "outputs": [
    {
     "name": "stdout",
     "output_type": "stream",
     "text": [
      "(3, 4)\n",
      "(3, 4)\n",
      "12\n",
      "12\n",
      "[[ 1  5  9]\n",
      " [ 2  6 10]\n",
      " [ 3  7 11]\n",
      " [ 4  8 12]]\n",
      "[[ 7  1  9]\n",
      " [ 6  5 10]\n",
      " [ 9  3 13]\n",
      " [12  2 15]]\n"
     ]
    }
   ],
   "source": [
    "#your code here\n",
    "print(a.shape)\n",
    "print(b.shape)\n",
    "print(a.size)\n",
    "print(b.size)\n",
    "print(a.H) # Returns the transpose?\n",
    "print(b.H)\n"
   ]
  },
  {
   "cell_type": "markdown",
   "metadata": {},
   "source": [
    "### Generating Matrices (part 2)\n",
    "\n",
    "Use numpy matrix methods ([link](https://docs.scipy.org/doc/numpy-1.14.0/reference/generated/numpy.zeros.html)) to create an $m\\times n$ matrix of zeros."
   ]
  },
  {
   "cell_type": "code",
   "execution_count": 15,
   "metadata": {},
   "outputs": [
    {
     "data": {
      "text/plain": [
       "array([[ 0.,  0.,  0.,  0.],\n",
       "       [ 0.,  0.,  0.,  0.],\n",
       "       [ 0.,  0.,  0.,  0.]])"
      ]
     },
     "execution_count": 15,
     "metadata": {},
     "output_type": "execute_result"
    }
   ],
   "source": [
    "np.zeros((3,4))"
   ]
  },
  {
   "cell_type": "markdown",
   "metadata": {},
   "source": [
    "Use numpy matrix methods ([link](https://docs.scipy.org/doc/numpy-1.13.0/reference/generated/numpy.identity.html)) to create an $n\\times n$ identity matrix."
   ]
  },
  {
   "cell_type": "code",
   "execution_count": 16,
   "metadata": {},
   "outputs": [
    {
     "data": {
      "text/plain": [
       "array([[1, 0, 0, 0, 0, 0, 0, 0, 0, 0, 0, 0],\n",
       "       [0, 1, 0, 0, 0, 0, 0, 0, 0, 0, 0, 0],\n",
       "       [0, 0, 1, 0, 0, 0, 0, 0, 0, 0, 0, 0],\n",
       "       [0, 0, 0, 1, 0, 0, 0, 0, 0, 0, 0, 0],\n",
       "       [0, 0, 0, 0, 1, 0, 0, 0, 0, 0, 0, 0],\n",
       "       [0, 0, 0, 0, 0, 1, 0, 0, 0, 0, 0, 0],\n",
       "       [0, 0, 0, 0, 0, 0, 1, 0, 0, 0, 0, 0],\n",
       "       [0, 0, 0, 0, 0, 0, 0, 1, 0, 0, 0, 0],\n",
       "       [0, 0, 0, 0, 0, 0, 0, 0, 1, 0, 0, 0],\n",
       "       [0, 0, 0, 0, 0, 0, 0, 0, 0, 1, 0, 0],\n",
       "       [0, 0, 0, 0, 0, 0, 0, 0, 0, 0, 1, 0],\n",
       "       [0, 0, 0, 0, 0, 0, 0, 0, 0, 0, 0, 1]])"
      ]
     },
     "execution_count": 16,
     "metadata": {},
     "output_type": "execute_result"
    }
   ],
   "source": [
    "np.identity(12, int)"
   ]
  },
  {
   "cell_type": "markdown",
   "metadata": {},
   "source": [
    "### Matrix Arithmetic\n",
    "Repeat the matrix arithmetic that you wrote in Exercise 1.  Hopefully you have an idea on how to google numpy methods since I have not provided links for these exerices.  Mark your work clearly using the following three types of arithmetic:\n",
    "1.  Scalar Multiplication\n",
    "2.  Matrix Addition\n",
    "3.  Matrix Multiplication"
   ]
  },
  {
   "cell_type": "code",
   "execution_count": 17,
   "metadata": {
    "collapsed": true
   },
   "outputs": [],
   "source": [
    "def scalar_mult(scalar, matrix):\n",
    "    return scalar*matrix"
   ]
  },
  {
   "cell_type": "code",
   "execution_count": 18,
   "metadata": {},
   "outputs": [
    {
     "data": {
      "text/plain": [
       "array([[ 4,  8, 12],\n",
       "       [16, 20, 24],\n",
       "       [28, 32, 36]])"
      ]
     },
     "execution_count": 18,
     "metadata": {},
     "output_type": "execute_result"
    }
   ],
   "source": [
    "def add(matrixA, matrixB):\n",
    "    return matrixA + matrixB\n",
    "\n",
    "add(C, matrix)"
   ]
  },
  {
   "cell_type": "code",
   "execution_count": 19,
   "metadata": {
    "collapsed": true
   },
   "outputs": [],
   "source": [
    "def matrixMult(matrixA, matrixB):\n",
    "    return np.multiply(matrixA, matrixB)"
   ]
  },
  {
   "cell_type": "markdown",
   "metadata": {
    "collapsed": true
   },
   "source": [
    "## Exercise 3\n",
    "Do your interactive practice for Wednesday's class here.  Specifically code up Newman's Example 6.1, but encapsulate the Gaussian elimination algorithm into a function you may call (in Exercise 4)."
   ]
  },
  {
   "cell_type": "code",
   "execution_count": 20,
   "metadata": {},
   "outputs": [
    {
     "name": "stdout",
     "output_type": "stream",
     "text": [
      "[ 2. -1. -2.  1.]\n"
     ]
    }
   ],
   "source": [
    "A = np.array([[2, 1, 4, 1],\n",
    "             [3, 4, -1, -1],\n",
    "             [1, -4, 1, 5],\n",
    "             [2, -2, 1, 3]], float)\n",
    "\n",
    "v = np.array([-4, 3, 9, 7 ],float)\n",
    "N = len(v)\n",
    "\n",
    "def gaussian_elimination(N, a, v):\n",
    "    \n",
    "    for m in range(N):\n",
    "        div = a[m,m]\n",
    "        a[m,:] /= div\n",
    "        v[m] /= div\n",
    "        \n",
    "        for i in range(m+1, N):\n",
    "            mult = a[i,m]\n",
    "            a[i,:] -= mult*a[m,:]\n",
    "            v[i] -= mult*v[m]\n",
    "            \n",
    "    x = np.empty(N,float)\n",
    "    for m in range (N-1,-1,-1):\n",
    "        x[m] = v[m]\n",
    "        for i in range(m+1,N):\n",
    "            x[m] -= A[m,i]*x[i]\n",
    "            \n",
    "    return(x)\n",
    "\n",
    "print(gaussian_elimination(N, A, v))"
   ]
  },
  {
   "cell_type": "markdown",
   "metadata": {
    "collapsed": true
   },
   "source": [
    "## Exercise 4\n",
    "Do Newman's Exercise 6.1 with circuits, using your own function for Gaussian Elimination."
   ]
  },
  {
   "cell_type": "code",
   "execution_count": 21,
   "metadata": {},
   "outputs": [
    {
     "name": "stdout",
     "output_type": "stream",
     "text": [
      "[ 3.          1.66666667  3.33333333  2.        ]\n"
     ]
    }
   ],
   "source": [
    "v = np.array([5,5,0,0], float)\n",
    "n = len(v)\n",
    "A = np.array([[4,-1,-1,-1],\n",
    "             [-1,0,3,-1],\n",
    "             [-1,3,0,-1],\n",
    "             [-1,-1,-1,4]], float)\n",
    "\n",
    "print(gaussian_elimination(n, A, v))"
   ]
  },
  {
   "cell_type": "markdown",
   "metadata": {},
   "source": [
    "Do Newman's Exercise 6.4, using numpy's linear algebra package"
   ]
  },
  {
   "cell_type": "code",
   "execution_count": 22,
   "metadata": {},
   "outputs": [
    {
     "name": "stdout",
     "output_type": "stream",
     "text": [
      "[ 3.          1.66666667  3.33333333  2.        ]\n"
     ]
    }
   ],
   "source": [
    "print(np.linalg.solve(A,v))"
   ]
  },
  {
   "cell_type": "markdown",
   "metadata": {
    "collapsed": true
   },
   "source": [
    "## Exercise 5 \n",
    "*This and the next exercise are nominally the \"lab\" for the week.  Write this part up as it is a lab, describing the physics of coupled harmonic oscillators - and write a nice description of your plots!!!!*\n",
    "\n",
    "Code up Example 6.2 - you are welcome to use Newman's online resources - but modify them to be more general as follows:  \n",
    "* Either use your own subroutine for Gaussian elimination or numpy's linear algebra package\n",
    "* Be sure that you can generalize your code more readily than Newman's example so you can play around with the constants.  Thus write a few more function definitions than he did."
   ]
  },
  {
   "cell_type": "code",
   "execution_count": null,
   "metadata": {
    "collapsed": true
   },
   "outputs": [],
   "source": [
    "import matplotlib.pylab as plt\n",
    "# % matplotlib inline\n",
    "\n",
    "# Constants\n",
    "N = 100\n",
    "k = 6.0\n",
    "omega = 2.0\n",
    "C = 1.0\n",
    "m = 1.0\n",
    "\n",
    "def harmonic(N, k, omega, C, m):\n",
    "    \n",
    "   \n",
    "  \n",
    "    alpha = 2*k-m*omega*omega\n",
    "    # Set up the initial values of the arrays\n",
    "    A = np.zeros([N,N], float)\n",
    "    for i in range(N-1):\n",
    "        A[i,i] = alpha\n",
    "        A[i, i+1] = -k\n",
    "        A[i+1, i] = -k\n",
    "\n",
    "    A[0,0] = alpha - k\n",
    "    A[N-1,N-1] = alpha - k\n",
    "    v = np.zeros(N,float)\n",
    "    v[0] = C\n",
    "\n",
    "    # Perform the Gaussian elimination\n",
    "    for i in range(N-1):\n",
    "        A[i,i+1] /= A[i,i]\n",
    "        v[i] /= A[i,i]\n",
    "\n",
    "        A[i+1,i+1] -= A[i+1,i]*A[i,i+1]\n",
    "        v[i+1] -= A[i+1,i]*v[i]\n",
    "\n",
    "    v[N-1] /= A[N-1,N-1]\n",
    "\n",
    "    # Back substitution\n",
    "    x = np.empty(N, float)\n",
    "    x[N-1] = v[N-1]\n",
    "    for i in range(N-2, -1, -1):\n",
    "        x[i] = v[i] - A[i,i+1]*x[i+1]\n",
    "\n",
    "    return x\n",
    "    \n",
    "plt.figure(figsize=(10,5))\n",
    "plt.title(\"Amplitudes of Vibration in a Chain\")\n",
    "plt.ylabel(\"Amplitude\")\n",
    "plt.xlabel(\"Oscillators\")\n",
    "plt.plot(harmonic(N,k,omega, C, m))\n",
    "plt.plot(harmonic(N,k,omega, C, m), \"ko\")\n",
    "plt.show()\n"
   ]
  },
  {
   "cell_type": "markdown",
   "metadata": {},
   "source": [
    "The plot above models the motion of of N identical masses in a row, joined by linear springs.  When a single mass is jostled, all of the masses will vibrate relative to one another.  The movement of one mass will cause a different movement in the adjoining masses.  This idea can be used to model the atoms in a solid.  Each mass oscillates between its equilibrium position and its maximum displacement.  In this scenario, the mass-spring system is floating in outerspace."
   ]
  },
  {
   "cell_type": "code",
   "execution_count": null,
   "metadata": {
    "collapsed": true
   },
   "outputs": [],
   "source": [
    "plt.title(\"Amplitudes of Vibration in a Chain\")\n",
    "plt.ylabel(\"Amplitude\")\n",
    "plt.xlabel(\"Oscillators\")\n",
    "plt.figure(figsize=(10,5))\n",
    "plt.plot(harmonic(N,6,2, C, m))\n",
    "plt.plot(harmonic(N,6,2, C, m), \"ko\")\n",
    "plt.plot(harmonic(N,12,2, C, m))\n",
    "plt.plot(harmonic(N,12,2, C, m), \"ko\")"
   ]
  },
  {
   "cell_type": "raw",
   "metadata": {},
   "source": [
    "When k is increased the amplitude of the oscillators decreases.  This makes sense because k is the spring constant.  A high spring constant means that the spring resists movement.  It requires more force acting on a spring with a high spring constant in order for it to be moved the same amount as a spring with a smaller spring constant."
   ]
  },
  {
   "cell_type": "code",
   "execution_count": null,
   "metadata": {
    "collapsed": true
   },
   "outputs": [],
   "source": [
    "plt.title(\"Amplitudes of Vibration in a Chain\")\n",
    "plt.ylabel(\"Amplitude\")\n",
    "plt.xlabel(\"Oscillators\")\n",
    "plt.figure(figsize=(10,5))\n",
    "plt.plot(harmonic(N,6,2, C, m))\n",
    "plt.plot(harmonic(N,6,2, C, m), \"ko\")\n",
    "plt.plot(harmonic(N,6,2, 2, m))\n",
    "plt.plot(harmonic(N,6,2, 2, m), \"ko\")"
   ]
  },
  {
   "cell_type": "markdown",
   "metadata": {},
   "source": [
    "C is the external force acting on each individual mass.  Changing the value of C multiplies the entire system by a constant phase factor.  This is the reason that there is no new behavior."
   ]
  },
  {
   "cell_type": "markdown",
   "metadata": {},
   "source": []
  },
  {
   "cell_type": "code",
   "execution_count": 58,
   "metadata": {
    "collapsed": true
   },
   "outputs": [],
   "source": [
    "t = np.linspace(0,2*np.pi,N)\n",
    "N1 = np.linspace(0,N,N)  #where N=number of oscillators as in Newman\n",
    "amplitude = x*np.cos(omega*t[0])\n",
    "fig, ax = plt.subplots()\n",
    "l2, = ax.plot(N1,amplitude,\"--ko\")\n",
    "\n",
    "def ani_x(i):\n",
    "    amplitude = x*np.cos(omega*t[i]) \n",
    "    l2.set_data(N1,amplitude)\n",
    "    \n",
    "ani = matplotlib.animation.FuncAnimation(fig, ani_x, frames=len(t))    \n",
    "ani\n",
    "plt.show()"
   ]
  },
  {
   "cell_type": "markdown",
   "metadata": {},
   "source": [
    "## Exercise 6\n",
    "Do as Newman directed in Exercise 6.6 and animate your results from Exercise 5.  You may teach yourself the visual tools (see Ch 3), but I much prefer the animation library as more general and useful.  Here is some code to get you started.  Hints follow the code definitions.\n",
    "\n",
    "### With credit to the following two sources\n",
    "\n",
    " * https://matplotlib.org/gallery/animation/simple_anim.html   \n",
    "    I couldn't get the jupyter notebook from matplotlib working, but this worked well:\n",
    "* [stack overflow solution](https://stackoverflow.com/questions/47138023/matplotlib-animation-in-jupyter-notebook-creates-additional-empty-plot)\n",
    "\n",
    "** NOTHING WILL HAPPEN WHEN YOU RUN THE FOLLOWING CELL**  \n",
    "NOTE: with Jupyter magics, you want \"%%capture\" to be at the head of the cell."
   ]
  },
  {
   "cell_type": "code",
   "execution_count": null,
   "metadata": {
    "collapsed": true
   },
   "outputs": [],
   "source": [
    "%%capture\n",
    "%matplotlib inline\n",
    "import matplotlib.pyplot as plt\n",
    "import matplotlib.animation\n",
    "import numpy as np\n",
    "\n",
    "t = np.linspace(0,2*np.pi)\n",
    "#x = np.sin(t)\n",
    "\n",
    "fig, ax = plt.subplots()\n",
    "h = ax.axis([0,2*np.pi,-1,1])\n",
    "l, = ax.plot([],[])\n",
    "N1 = np.linspace(0,N,N)\n",
    "\n",
    "def animate(i):\n",
    "    l.set_data(t[:i], x[:i])\n",
    "\n",
    "ani = matplotlib.animation.FuncAnimation(fig, animate, frames=len(t))"
   ]
  },
  {
   "cell_type": "code",
   "execution_count": 37,
   "metadata": {
    "collapsed": true
   },
   "outputs": [],
   "source": [
    "# run this cell to call the \"ani\" animation object called above.  \n",
    "# You should see a blank plot and a set of controllers.  \n",
    "# Have fun with this, and then modify it to work with your code in Exercise 5\n",
    "ani\n",
    "plt.show()"
   ]
  },
  {
   "cell_type": "markdown",
   "metadata": {},
   "source": [
    "### Hints to Modify\n",
    "To do a line animation, you will have to modify the plotstyle used by Newman.  Instead of using: \n",
    "```\n",
    "plt.plot(x)\n",
    "```\n",
    "in order to plot all of the oscillators, you will need to declare a variable for the x-axis (NOT TIME) that counts all of the oscillators.  This was my way to do so:\n",
    "```\n",
    "N1 = np.linspace(0,N,N)  #where N=number of oscillators as in Newman\n",
    "```\n",
    "I also used equation 6.53 to calculate an amplitude from my calculated x-values.\n",
    "```\n",
    "amplitude = #Leaving this for you to do\n",
    "```\n",
    "Then I plotted those two variables: \n",
    "```\n",
    "fig, ax = plt.subplots()\n",
    "l, = ax.plot(N1,amplitude,\"--ko\")\n",
    "\n",
    "```\n",
    "Then I defined an animation function (similar to that in the sample below) that updated the amplitudes for new time values (I replaced the t[:i] with t[i] - think about why that is important).  Then I updated the values for the line plot with: \n",
    "\n",
    "```\n",
    "def ani_x(i):\n",
    "    amplitude = #LEAVING THIS FOR YOU   \n",
    "    l2.set_data(N1,amplitude)\n",
    "```\n",
    "\n",
    "See if you can put those ideas together.  If it seems a little convoluted to declare N1, you are welcome to use a different method to animate the data.  The line plot needs two variables.\n",
    "\n"
   ]
  },
  {
   "cell_type": "markdown",
   "metadata": {},
   "source": [
    "## Exercise 7\n",
    "Play around with your working code.  Modify the constants, add lots of good labels (remember, this is a lab-like assignment).  Make the plots beautiful and have fun."
   ]
  },
  {
   "cell_type": "code",
   "execution_count": null,
   "metadata": {
    "collapsed": true
   },
   "outputs": [],
   "source": []
  }
 ],
 "metadata": {
  "kernelspec": {
   "display_name": "Python 3",
   "language": "python",
   "name": "python3"
  },
  "language_info": {
   "codemirror_mode": {
    "name": "ipython",
    "version": 3
   },
   "file_extension": ".py",
   "mimetype": "text/x-python",
   "name": "python",
   "nbconvert_exporter": "python",
   "pygments_lexer": "ipython3",
   "version": "3.4.5"
  }
 },
 "nbformat": 4,
 "nbformat_minor": 2
}
