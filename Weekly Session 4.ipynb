{
 "cells": [
  {
   "cell_type": "markdown",
   "metadata": {},
   "source": [
    "# Weekly Session 4 - Integrals in Computational Physics\n",
    "\n",
    "### Goal\n",
    "To develop a basic familiarity and proficiency with numerical integration.\n",
    "\n",
    "### Readings\n",
    "This week, we will cover the most essential subsections on integration in Newman:\n",
    "\n",
    "    5.1 Fundamental methods for evaluating integrals\n",
    "\n",
    "    5.2 Errors on integrals\n",
    "\n",
    "    5.3 Choosing the number of steps\n",
    "\n",
    "    5.5 Higher-order integration methods\n",
    "\n",
    "    5.7 Choosing an integration method \n",
    "\n",
    "## Overview\n",
    "\n",
    "You will build up your own module named ```integration```, containing\n",
    "functions which implement the two basic numerical integration\n",
    "methods based on equally-spaced mesh points: \n",
    "the *trapezoidal rule* and *Simpson's rule*.  \n",
    "\n",
    "You will explore the accuracy of these routines numerically, try out\n",
    "error estimation, and see how they can serve as the basis for adaptive\n",
    "routines.\n",
    "\n",
    "For lab we will practice using them on interesting integrals in physics."
   ]
  },
  {
   "cell_type": "code",
   "execution_count": 1,
   "metadata": {},
   "outputs": [
    {
     "data": {
      "text/html": [
       "<style>\n",
       "div.warn {\n",
       "    background-color: black;\n",
       "    border-color: #dFb5b4;\n",
       "    border-left: 5px solid #dfb5b4;\n",
       "    padding: 0.5em\n",
       "    color: white;\n",
       "    }\n",
       " </style>\n",
       "\n",
       " <style>\n",
       " div.answer {\n",
       "     background-color: lightblue;\n",
       "     border-color: #dFb5b4;\n",
       "     border-left: 5px solid #dfb5b4;\n",
       "     padding: 0.5em\n",
       "     }\n",
       "  </style>\n"
      ],
      "text/plain": [
       "<IPython.core.display.HTML object>"
      ]
     },
     "execution_count": 1,
     "metadata": {},
     "output_type": "execute_result"
    }
   ],
   "source": [
    "#For colored cells, currently black cells, white text is added in Markdown\n",
    "#https://stackoverflow.com/questions/18024769/adding-custom-styled-paragraphs-in-markdown-cells\n",
    "from IPython.core.display import HTML\n",
    "def css_styling():\n",
    "    styles = open(\"style.css\", \"r\").read()\n",
    "    return HTML(styles)\n",
    "css_styling()"
   ]
  },
  {
   "cell_type": "markdown",
   "metadata": {},
   "source": [
    "<div class=answer>\n",
    "*This should be a blue cell with black font if you set the filepath correctly*</font>\n",
    "<div/>"
   ]
  },
  {
   "cell_type": "markdown",
   "metadata": {},
   "source": [
    "## Exercise 0: floating point numbers to single precision\n",
    "#### *A review on round-off error*\n",
    "\n",
    "Python automatically uses double precision of all floating point numbers.  While this is typically a good thing - the rounding errors are minimized this way - many other languages such as C and C++ have distinct types of floating point numbers - single precision (32 bytes) and double precision (64 bytes) - that use different amounts of memory.  For testing our numerical solutions of integrals, it will be useful to examine single precision floats (```np.float32()```) and compare them to double precision floats (python's default ```float()```, which can be specified with ```np.float64()```).  Here is a basic example comparing the default to the single precision float: "
   ]
  },
  {
   "cell_type": "code",
   "execution_count": 2,
   "metadata": {},
   "outputs": [
    {
     "name": "stdout",
     "output_type": "stream",
     "text": [
      "2.718281828459045\n",
      "2.71828\n"
     ]
    }
   ],
   "source": [
    "import numpy as np\n",
    "import matplotlib.pyplot as plt\n",
    "%matplotlib inline\n",
    "\n",
    "x = np.e              #numpy's value for Euler's number -e \n",
    "print(x)              #print e with 64 bits of memory, or 16 digits \n",
    "print(np.float32(x))  #print e with 32 bits of memory, or 5 digits"
   ]
  },
  {
   "cell_type": "markdown",
   "metadata": {},
   "source": [
    "Here is another example where I examine the round-off error with a complex number e^{i*pi}"
   ]
  },
  {
   "cell_type": "code",
   "execution_count": 3,
   "metadata": {},
   "outputs": [
    {
     "name": "stdout",
     "output_type": "stream",
     "text": [
      "The exact result for e^{i pi} =  -1.0\n",
      "The 32-byte floating point result is  (-1+9.54034461546e-08j)\n",
      "The 64-byte floating point result is  (-1+1.2246467991473532e-16j)\n",
      "The relative roundoff error for the float32 value is:  9.54034461546e-08\n",
      "The relative roundoff error for the float64 value is:  1.2246467991473532e-16\n"
     ]
    }
   ],
   "source": [
    "x = np.e                  #numpy's value for Euler's number -e \n",
    "y = complex(0.0,np.pi)    #a complex number y = i pi\n",
    "\n",
    "a_exact = -1.0\n",
    "a32 = np.float32(x)**(y) #note that only x is a 32 bit number, y is 64 bit\n",
    "a64 = x**y\n",
    "\n",
    "error32 = abs(a32-a_exact)  #divided by a_exact = 1\n",
    "error64 = abs(a64-a_exact)  #divided by a_exact = 1\n",
    "\n",
    "print(\"The exact result for e^{i pi} = \", a_exact)\n",
    "print(\"The 32-byte floating point result is \", a32)\n",
    "print(\"The 64-byte floating point result is \", a64)\n",
    "\n",
    "print(\"The relative roundoff error for the float32 value is: \",error32)\n",
    "print(\"The relative roundoff error for the float64 value is: \",error64)"
   ]
  },
  {
   "cell_type": "markdown",
   "metadata": {},
   "source": [
    "<div class=answer>\n",
    " __Write a code to examine the float32 and float64 values of the following function:\n",
    "$$\n",
    "f(x) = \\frac{1}{\\sqrt{x}}\n",
    "$$\n",
    "where $x~ =~ 1,~10^2,~10^4,~10^6$.  Compare the numerical values to the exact results as in the example above.__\n",
    "    \n",
    "Please use a loop to speed up your work!\n",
    "<div/>"
   ]
  },
  {
   "cell_type": "code",
   "execution_count": 4,
   "metadata": {},
   "outputs": [
    {
     "name": "stdout",
     "output_type": "stream",
     "text": [
      "The exact result for f(x) =  1\n",
      "The 32-byte floating point result is  1.0\n",
      "The 64-byte floating point result is  1.0\n",
      "The relative roundoff error for the float32 value is:  0.0\n",
      "The relative roundoff error for the float64 value is:  0.0\n",
      "The exact result for f(x) =  0.1\n",
      "The 32-byte floating point result is  0.1\n",
      "The 64-byte floating point result is  0.1\n",
      "The relative roundoff error for the float32 value is:  1.49011611383e-09\n",
      "The relative roundoff error for the float64 value is:  0.0\n",
      "The exact result for f(x) =  0.01\n",
      "The 32-byte floating point result is  0.01\n",
      "The 64-byte floating point result is  0.01\n",
      "The relative roundoff error for the float32 value is:  2.23517418116e-10\n",
      "The relative roundoff error for the float64 value is:  0.0\n",
      "The exact result for f(x) =  0.001\n",
      "The 32-byte floating point result is  0.001\n",
      "The 64-byte floating point result is  0.001\n",
      "The relative roundoff error for the float32 value is:  4.74974512846e-11\n",
      "The relative roundoff error for the float64 value is:  0.0\n"
     ]
    }
   ],
   "source": [
    "import math\n",
    "\n",
    "def f(x):\n",
    "    value = 1/math.sqrt(x)\n",
    "    return value\n",
    "\n",
    "a_exact = [1, 0.1, 0.01, 0.001]\n",
    "r = [1, 10**2, 10**4, 10**6]\n",
    "counter = 0\n",
    "\n",
    "for x in r:\n",
    "    a32 = np.float32(f(x))\n",
    "    a64 = f(x)\n",
    "    \n",
    "    exactV = a_exact[counter]\n",
    "    \n",
    "    counter += 1\n",
    "    \n",
    "    error32 = abs(a32-exactV)\n",
    "    error64 = abs(a64-exactV)\n",
    "    \n",
    "    print(\"The exact result for f(x) = \", exactV)\n",
    "    print(\"The 32-byte floating point result is \", a32)\n",
    "    print(\"The 64-byte floating point result is \", a64)\n",
    "\n",
    "    print(\"The relative roundoff error for the float32 value is: \",error32)\n",
    "    print(\"The relative roundoff error for the float64 value is: \",error64)\n",
    "      "
   ]
  },
  {
   "cell_type": "markdown",
   "metadata": {},
   "source": [
    "## Exercise 1: General form of Integrals\n",
    "\n",
    "As Newman points out -- if you look ahead to Section 5.5 on page 163 --\n",
    "the trapezoidal rule and Simpson's rule both have the same general form\n",
    "\n",
    "$$\n",
    "\\int_a^bf(x)\\,dx \\approx \\sum_{k=0}^N w_k f(x_k),\n",
    "$$\n",
    "\n",
    "where the $x_k$ are equally spaced points, with \n",
    "$$\n",
    "x_k=a+k\\frac{(b-a)}{N}.\n",
    "$$\n",
    "\n",
    "The only difference is in the different choices for $w_k$.  These two\n",
    "methods are actually the first two special cases of the more general\n",
    "Newton-Cotes formulas, which is based on local polynomial approximations to the\n",
    "function: the linear approximation gives the trapezoidal rule, the quadratic\n",
    "approximation gives Simpson's rule, *etc.*  In fact, take a\n",
    "look at the nice table on page 164 to see this similarity.\n",
    "\n",
    "Actually, though, if you try to use Newman's (5.52) and the table of\n",
    "weights on page 164 to actually do a calculation, you will soon\n",
    "discover that there is a very important factor missing!  \n",
    "__ Compare (5.52) to the trapezoidal and Simpson's formulas.  What factor is missing? __ "
   ]
  },
  {
   "cell_type": "markdown",
   "metadata": {},
   "source": [
    "<div class=answer>\n",
    "Answer here: They forgot the h when they made the table.\n",
    "<div/>\n",
    "__P.S.__ I only noticed this the hard way as I was coding it up myself."
   ]
  },
  {
   "cell_type": "markdown",
   "metadata": {},
   "source": [
    "### Test case\n",
    "\n",
    "For initial testing of our integration functions, we will use the integral\n",
    "\\begin{equation}\n",
    "\\label{eqn-int-exp}\n",
    "\\int_0^1 e^{-x}\\,dx.\n",
    "\\end{equation}\n",
    "The integrand varies smoothly, so this is an \"easy\" case.  Also, the\n",
    "result is known analytically, so we can easily check our answer's precision.\n",
    "\n",
    "__In fact, what *is* the correct answer, analytically?  And what is this as a floating point number, to as many places as you can write in double precision?__"
   ]
  },
  {
   "cell_type": "code",
   "execution_count": 5,
   "metadata": {},
   "outputs": [
    {
     "data": {
      "text/plain": [
       "0.6321205588285577"
      ]
     },
     "execution_count": 5,
     "metadata": {},
     "output_type": "execute_result"
    }
   ],
   "source": [
    "-np.e**(-1)+1"
   ]
  },
  {
   "cell_type": "markdown",
   "metadata": {},
   "source": [
    "<div class=answer>\n",
    "Answer here: The correct answer analytically is in the cell above.  \n",
    "<div/>"
   ]
  },
  {
   "cell_type": "markdown",
   "metadata": {},
   "source": [
    "## Basic integration of functions\n",
    "\n",
    "We are about to write two functions: one to evaluate a definite integral by\n",
    "the trapezoidal rule (```trapezoidal()```) and one to evaluate a\n",
    "definite integral by Simpson's rule (```simpson()```).\n",
    "You are welcome to reuse your code for Example 5.1, \n",
    "but now use a more general approach appropriate for calling a \n",
    "trapezoid integral later in the notebook.\n",
    "\n",
    "First you will need to design an \"interface\" \n",
    "-- *i.e.* select the input parameters and return value --\n",
    "for each of these functions.  Is there any difference between the interface for these\n",
    "two functions?\n",
    "\n",
    "__What will be your interface?__  see the hints/notes below.  "
   ]
  },
  {
   "cell_type": "markdown",
   "metadata": {},
   "source": [
    "__Hint:__ Is there any constraint on the number of steps for the\n",
    "trapezoidal rule?  How about Simpson's rule?\n",
    "\n",
    "__Note:__\n",
    "For reasons of sanity, please make sure your function takes as a\n",
    "parameter the number of *steps* $N$ for the integration, not the\n",
    "number of *points* for the integration.  \n",
    "\n",
    "<div class=answer>\n",
    "Answer here: The constraint is that N must be even in the case of Simpson's rule.  The interfaces for both will have N, a, b and s?  \n",
    "<div/>"
   ]
  },
  {
   "cell_type": "markdown",
   "metadata": {},
   "source": [
    "__ Now write these two functions, and test them out the benchmark integral given in the test integral__.\n",
    "\n",
    "__Hint:__ Newman break's Simpson's rule up into two sums in (5.9).  Ugly!\n",
    "Can you do this as one sum, calculating the correct weight $w_k$ for\n",
    "each term, like in (5.52), as discussed above?  Do you see\n",
    "any way you can use the\n",
    "```%``` operator to make your life simpler?  "
   ]
  },
  {
   "cell_type": "code",
   "execution_count": 21,
   "metadata": {},
   "outputs": [
    {
     "name": "stdout",
     "output_type": "stream",
     "text": [
      "0.6321205588285577\n",
      "0.6321661548099312\n",
      "0.6321205593553268\n"
     ]
    }
   ],
   "source": [
    "-np.e**(-1)+1\n",
    "\n",
    "def trapezoid(N, a, b, f, h):\n",
    "    \n",
    "    s = (0.5*f(a) + 0.5*f(b)) \n",
    "    for i in range(1,N):\n",
    "        s+= f(a+i*h)         \n",
    "    \n",
    "    return(h*s)     \n",
    "  \n",
    "    \n",
    "def simpson(N, a, b, f, h):\n",
    "         \n",
    "    s = f(a) + f(b)\n",
    "    c = 0\n",
    "    \n",
    "    if N%2 != 0:\n",
    "        return(\"Fail\")\n",
    "    else:\n",
    "        for k in range(1,N):\n",
    "             if k%2 == 0:\n",
    "                 s += f(a+k*h)\n",
    "\n",
    "             elif k%2 == 1:\n",
    "                 c += f(a+k*h)\n",
    "\n",
    "        s = 2*s + 4*c\n",
    "        return(h/3*s)\n",
    "         \n",
    "         \n",
    "N = 10000                      \n",
    "a = 0.0                     \n",
    "b = 1.0                     \n",
    "h = (b-a)/N \n",
    "    \n",
    "print(-np.e**(-1)+1)    \n",
    "print(simpson(N,a,b,f,h))\n",
    "print(trapezoid(N,a,b,f,h))"
   ]
  },
  {
   "cell_type": "markdown",
   "metadata": {},
   "source": [
    "## Exercise 2: An interlude\n",
    "### Plotting log-log plots and the np.logspace() function\n",
    "\n",
    "In Exercise 3 you will make log-log plots to examine the error in your numerical solutions of integrals.  Log-log plots are a highly useful manner to examine non-linear trends in data.  Here is an example to practice working with them outside of the integration.  \n",
    "\n",
    "Note that ```pylab``` can plot on log-log axes automatically with the function ```pylab.loglog```.  See\n",
    "https://matplotlib.org/examples/pylab_examples/log_demo.html \n",
    "if you would like to explore more.\n",
    "\n",
    "Lets start by making a very sparse set of points for your $x$-axis, with integer exponents,\n",
    "like $10^1$, $10^2$, $10^3$, with the numpy array generating function ```logspace()``` (which is very similar to ```linspace()```)"
   ]
  },
  {
   "cell_type": "code",
   "execution_count": null,
   "metadata": {
    "collapsed": true
   },
   "outputs": [],
   "source": [
    "#source: https://docs.scipy.org/doc/numpy-1.10.0/reference/generated/numpy.logspace.html\n",
    "\n",
    "N = 10\n",
    "x1 = np.logspace(1, 2, N, endpoint=True)    #where 1 means 10^1 and 2 means 10^2\n",
    "x2 = np.logspace(1, 2, N, endpoint=False)\n",
    "y = np.zeros(N)\n",
    "plt.plot(x1, y, 'o', label=\"endpoint=True\")\n",
    "plt.plot(x2, y + 0.5, 'o',label='endpoint=False')\n",
    "plt.ylim([-0.5, 1])\n",
    "plt.xlabel(\"x\")\n",
    "plt.ylabel(\"y\")\n",
    "plt.legend()\n",
    "plt.show()"
   ]
  },
  {
   "cell_type": "markdown",
   "metadata": {},
   "source": [
    "__ Play with the np.logspace() function below.  Make an array of ten integers that spans from 1-1000 and present your results on a plot similar to that above.  Next make an array of ten EVEN integers that spans from 1-1024 and add it to your plot__ \n",
    "\n",
    "__Hint:__ play with the optional argument ```base``` documented here:\n",
    "https://docs.scipy.org/doc/numpy-1.10.0/reference/generated/numpy.logspace.html\n",
    "\n",
    "and illustrated here:\n",
    "https://matplotlib.org/examples/pylab_examples/log_demo.html\n",
    "\n",
    "My array of even numbers were as follows, what is the base?\n",
    "[   2    4    8   16   32   64  128  256  512 1024]"
   ]
  },
  {
   "cell_type": "code",
   "execution_count": 20,
   "metadata": {},
   "outputs": [
    {
     "data": {
      "image/png": "[encoded data removed]",
      "text/plain": [
       "<matplotlib.figure.Figure at 0xadb9320>"
      ]
     },
     "metadata": {},
     "output_type": "display_data"
    },
    {
     "name": "stdout",
     "output_type": "stream",
     "text": [
      "[   10.            16.68100537    27.82559402    46.41588834    77.42636827\n",
      "   129.1549665    215.443469     359.38136638   599.48425032  1000.        ]\n",
      "[    2.     4.     8.    16.    32.    64.   128.   256.   512.  1024.]\n"
     ]
    }
   ],
   "source": [
    "x3 = np.logspace(1, 3, 10, endpoint=True)\n",
    "x4 = np.logspace(1, 10, 10, base=2, endpoint=True)\n",
    "\n",
    "y = np.zeros(N)\n",
    "plt.plot(x3, y, 'o', label=\"1-1000\")\n",
    "plt.plot(x4, y + 0.5, 'o',label='1-1024')\n",
    "plt.ylim([-0.5, 1])\n",
    "plt.xlabel(\"x\")\n",
    "plt.ylabel(\"y\")\n",
    "plt.legend()\n",
    "plt.show()\n",
    "\n",
    "print(x3)\n",
    "print(x4)"
   ]
  },
  {
   "cell_type": "markdown",
   "metadata": {},
   "source": [
    "### LogLog plots\n",
    "Now lets make some interesting y-data, plot $y ~vs.~ x$, and compare the results for a linear-linear, log-linear, and log-log plot.  I have provided a full example below.  Use this as an example to do the plot in Exercise 3 when you get there. \n",
    "*Don't miss the question that follows the plots!*"
   ]
  },
  {
   "cell_type": "code",
   "execution_count": 8,
   "metadata": {},
   "outputs": [
    {
     "data": {
      "image/png": "[encoded data removed]",
      "text/plain": [
       "<matplotlib.figure.Figure at 0x76cccf8>"
      ]
     },
     "metadata": {},
     "output_type": "display_data"
    }
   ],
   "source": [
    "# log x and y axis\n",
    "# Example of log style plots\n",
    "# source: https://matplotlib.org/examples/pylab_examples/log_demo.html\n",
    "\n",
    "fig=plt.figure(figsize=(18, 16), dpi= 80, facecolor='w', edgecolor='k')\n",
    "\n",
    "N = 10\n",
    "x1 = np.logspace(1, 2, N, endpoint=False)\n",
    "y1 = 2**x1 \n",
    "\n",
    "# log y axis\n",
    "plt.subplot(221)\n",
    "plt.plot(x1, y1,'o-')\n",
    "plt.title('linear-linear plot')\n",
    "plt.grid(True)\n",
    "plt.xlabel(\"x\")\n",
    "plt.ylabel(\"y\")\n",
    "\n",
    "# log y axis\n",
    "plt.subplot(222)\n",
    "plt.semilogy(x1, y1,'o-')\n",
    "plt.title('semilogy')\n",
    "plt.grid(True)\n",
    "plt.xlabel(\"x\")\n",
    "plt.ylabel(\"y\")\n",
    "             \n",
    "# log x axis\n",
    "plt.subplot(223)\n",
    "plt.semilogx(x1, y1,'o-')\n",
    "plt.title('semilogx')\n",
    "plt.grid(True)\n",
    "plt.xlabel(\"x\")\n",
    "plt.ylabel(\"y\")\n",
    "             \n",
    "# log x and y axis\n",
    "plt.subplot(224)\n",
    "plt.loglog(x1, y1,'o-')\n",
    "plt.grid(True)\n",
    "plt.title('loglog')\n",
    "plt.xlabel(\"x\")\n",
    "plt.ylabel(\"y\")\n",
    "\n",
    "plt.show()"
   ]
  },
  {
   "cell_type": "markdown",
   "metadata": {},
   "source": [
    "<div class=answer>\n",
    " __ Now that you've seen the example, why do you think log-log plots are so useful?  Can you think of another example in your physics (or math, CS, etc) background where log-log plots were useful?  Discuss with your partner and explain. __\n",
    "<div/>\n",
    "\n",
    "Log scales are so useful because they make it possible to see all the data points, and what is going on with them.  The two plots with log based y axis show the behavior of the x data points, where as the plots without the log base y axis do not show the behavior of the points in any useful way what so ever."
   ]
  },
  {
   "cell_type": "markdown",
   "metadata": {},
   "source": [
    "## Exercise 3\n",
    "### Algorithmic and roundoff error \n",
    "\n",
    "Make a log-log plot of the __error__ in the calculation of the benchmark\n",
    "integral *vs.* the number of steps, for both the trapezoidal rule and\n",
    "Simpson's rule.  \n",
    "Here the benchmark integral is the numerical algorithm which you may compare to the exact result.\n",
    "\n",
    "The goal is to see if the behavior of the errors follows the pattern\n",
    "we expect from Newman's discussion.  That is, we expect\n",
    "*approximation error* (or *algorithmic error*) to dominate\n",
    "for small $N$, and *roundoff error* to dominate for large $N$.  \n",
    "\n",
    "\n",
    "For the trapezoidal rule, it will be very hard for you to reach the regime\n",
    "in which roundoff error dominates, since the algorithmic error is just\n",
    "so overwhelmingly bad, and double precision arithmetic is just so\n",
    "wonderfully good.  Thus, for us to have a chance to see the onset of\n",
    "roundoff error more easily, it would be nice if your functions could also work in single precision.\n",
    "Modify your functions so that they take an\n",
    "*optional* argument ```float_type=np.float32``` \n",
    "and convert each term in the sum to this float type before adding it to the sum. \n",
    "\n",
    "__Hint:__  Make log-log plots showing the errors for the two methods\n",
    "*vs.* number of steps (so ```simpson()``` and ```trapezoid()``` are on the same panel), in \n",
    "both single and double precision (do a separate panel for float32/single and float64/doubles).  \n",
    "*Use the results from Exercises 0 and 2.*\n",
    "\n",
    "\n",
    "__Hint:__ Chose a set of closely-spaced points for your $x$-axis ($N$-values).  My base-2 even integers from Exercise 2 are a great starting point.\n",
    "\n",
    "Of course, in the end, you need to pick integer values for the number of steps.  But that's what\n",
    "rounding is for, isn't it?  You might need to use some arithmetic creativity to\n",
    "make sure the number of points is even for Simpson's rule.  There isn't a right way to achieve this, you can do it by hand or with some simple math tricks.\n",
    "\n",
    "__Enter your code in the cells below (add more if you like).  Make log-log plots showing the errors for the two methods *vs.* number of steps (overlaid on top of each other), in both single and double precision.  As always label your plots well.__"
   ]
  },
  {
   "cell_type": "code",
   "execution_count": 25,
   "metadata": {},
   "outputs": [
    {
     "name": "stdout",
     "output_type": "stream",
     "text": [
      "[0.083310330812411057, 0.0033421879714381343, 0.00083776165098124928, 0.00013290142391846071, 5.5656467530183497e-05, 2.6689608895556701e-05, 0.00017731727384479376, 4.6693099682966574e-05]\n",
      "[7.213233536780872, 1.4426327255105054, 0.72132029081615823, 0.28852443162210922, 0.14426130348976143, 0.072138056080262442, 0.014405630795963098, 0.0072736815442900381]\n"
     ]
    },
    {
     "data": {
      "text/plain": [
       "<matplotlib.legend.Legend at 0xb8a4128>"
      ]
     },
     "execution_count": 25,
     "metadata": {},
     "output_type": "execute_result"
    },
    {
     "data": {
      "image/png": "[encoded data removed]",
      "text/plain": [
       "<matplotlib.figure.Figure at 0xa16fcf8>"
      ]
     },
     "metadata": {},
     "output_type": "display_data"
    }
   ],
   "source": [
    "def error(approx, analytic):\n",
    "    return(((abs(approx-analytic))/analytic)*100)\n",
    "\n",
    "def f(x):\n",
    "    value = math.e**-x\n",
    "    return value\n",
    "\n",
    "def trapezoid(N, a, b, f, float_type=np.float32):\n",
    "    h = (b-a)/N  \n",
    "    s = float_type((0.5*f(a) + 0.5*f(b))) \n",
    "    for i in range(1,N):\n",
    "        s+= float_type(f(a+i*h))         \n",
    "    \n",
    "    return(h*s)     \n",
    "  \n",
    "    \n",
    "def simpson(N, a, b, f, float_type=np.float32):\n",
    "    \n",
    "    h = (b-a)/N  \n",
    "    s = float_type(f(a) + f(b))\n",
    "    c = 0\n",
    "    \n",
    "    if N%2 != 0:\n",
    "        return(\"Fail\")\n",
    "    else:\n",
    "        for k in range(1,N):\n",
    "             if k%2 == 0:\n",
    "                 s += float_type(f(a+k*h))\n",
    "\n",
    "             elif k%2 == 1:\n",
    "                 c += float_type(f(a+k*h))\n",
    "\n",
    "        s = 2*s + 4*c\n",
    "        return(h/3*s) \n",
    "    \n",
    "  \n",
    "    \n",
    "analytic = -np.e**(-1)+1\n",
    "\n",
    "N_array = [10,50,100,250,500,1000,5000,10000]\n",
    "error_array = []\n",
    "error_array2 = []\n",
    "a = 0.0                     \n",
    "b = 1.0                     \n",
    "\n",
    "for n in N_array:\n",
    "    approx = trapezoid(n,a,b,f)\n",
    "    error_array.append(error(approx,analytic))\n",
    "print(error_array)\n",
    "\n",
    "for i in N_array:\n",
    "    approx2 = simpson(i,a,b,f)\n",
    "    error_array2.append(error(approx2,analytic))\n",
    "print(error_array2)\n",
    "\n",
    "    \n",
    "plt.loglog(N_array, error_array,'bo-',label=\"Trapezoid Error\")\n",
    "plt.loglog(N_array,error_array2, 'go-',label=\"Simpson Error\")\n",
    "plt.title('loglog of error vs number of steps for simpson and trapezoid')\n",
    "plt.xlabel(\"steps\")\n",
    "plt.ylabel(\"error\")\n",
    "plt.legend()"
   ]
  },
  {
   "cell_type": "markdown",
   "metadata": {},
   "source": [
    "<div class=answer>\n",
    "__ For each method, identify the region in which algorithmic error dominates and the region in which roundoff error dominates.  For the algorithmic error, try to read the exponent off from the slope of the plot and compare with the expected value from Newman's analysis.  Where do you expect the \"crossover\" between these regions to occur\n",
    "from Newman's estimates, given single or double precision?  Is this consistent with what you observe?__\n",
    "<div/>\n",
    "Answer here"
   ]
  },
  {
   "cell_type": "markdown",
   "metadata": {},
   "source": [
    "## Exercise 4:\n",
    "### Error estimation \n",
    "\n",
    "In Section 5.2.1, Newman describes the practical method for estimating the error in a trapezoidal rule or Simpson's rule calculation.  Try these error estimates out for the trapezoidal rule, with $20$ steps\n",
    "and $200$ steps.  __How close are the estimates to the actual errors?__  What about the sign (this will matter when we get to Romberg integration)? Repeat for Simpson's rule.\n"
   ]
  },
  {
   "cell_type": "code",
   "execution_count": null,
   "metadata": {
    "collapsed": true
   },
   "outputs": [],
   "source": [
    "#enter your code here"
   ]
  },
  {
   "cell_type": "markdown",
   "metadata": {},
   "source": [
    "<div class=answer>\n",
    "<div/>\n",
    "Answer here"
   ]
  },
  {
   "cell_type": "markdown",
   "metadata": {},
   "source": [
    "## Exercise 5: \n",
    "### Programming technique: Generalizing a function\n",
    "\n",
    "If you are thinking like a computer scientist, you are probably just\n",
    "starting to get a little irked by now.  \n",
    "\n",
    "You just did a bit of cutting and pasting, didn't you?  You started\n",
    "from the function ```trapezoidal()``` and adapted it to write the function ```simpson()```, right?  \n",
    "These functions both share the same interface, and the code for each of them is nearly the\n",
    "same, *i.e.*, they both compute a sum\n",
    "$$\n",
    "\\sum_{k=0}^N w_k f(x_k),\n",
    "$$\n",
    "with the same values of $x_k$, but just some slight differences in the\n",
    "values you use for the coefficients $w_k$.  \n",
    "\n",
    "Then, when you needed to make an addition to these functions (adding\n",
    "the parameter ```float_type```, you had to go back and make the \n",
    "*exact same modifications* to your code *twice*, once in each the functions.   \n",
    "\n",
    "Wasn't that annoying?  More precisely, wasn't that a waste of effort?\n",
    "And doesn't this duplication serve as a big deterrent against your making other such\n",
    "modifications and improvements in the future?  Imagine if you had gone even further, and written\n",
    "separate functions for each of the higher-order Newton-Cotes integration rules\n",
    "(Newman Section 5.5)?  Then you would have had to go back and modify all four functions!\n",
    "\n",
    "A much more farsighted approach would be to *generalize* your\n",
    "original *trapezoidal* function, instead of\n",
    "simply *cutting and pasting* it to make new functions.\n",
    "\n",
    "#### It's still not too late!\n",
    "\n",
    "Even if your first attempt is based on cutting and pasting, you can\n",
    "later recognize the similarity of\n",
    "different functions and merge them back together into one function.\n",
    "When you *recognize redundancy*, you *go back and destroy it*.  A little effort\n",
    "doing this now saves you from much greater duplicated effort testing, debugging,\n",
    "and maintaining redundant code in the future.  \n",
    "(Plus it is so rewarding if you are a neatness freak...)\n",
    "\n",
    "You will often notice that the functions you find in libraries \n",
    "(like ```numpy``` or ```matplotlib```) bundle several related algorithms\n",
    "into one function, and the user chooses the particular algorithm \n",
    "through a ```mode``` parameter.  So, following this model, let us replace your separate integration\n",
    "functions with one combined function ```integrate```.  \n",
    "This function should take an optional parameter ```order=1```,\n",
    "which controls whether to use the weights $w_i$\n",
    "appropriate to the trapezoidal rule\n",
    "(first order) or Simpson's rule (second order).  While you are at it,\n",
    "make your function capable of cubic and quartic integration as\n",
    "well (see the table in Newman Section~5.5).\n",
    "\n",
    "__Hint:__   Can you see any way to make use of the following definitions\n",
    "```python\n",
    "endpoint_weights = [1/2,1/3,3/8,14/45]\n",
    "interior_weights = [\n",
    "    [1],\n",
    "    [2/3,4/3],\n",
    "    [3/4,9/8,9/8],\n",
    "    [28/45,64/45,8/15,64/45]\n",
    "    ]\n",
    "```\n",
    "to make your formula for $w_k$ in the code very simple?\n",
    "\n",
    "\n",
    "__Go back and add the fourth-order Newton-Cotes method to your log-log error plots. Note that you need steps that are a multiple of 4 for this method.__"
   ]
  },
  {
   "cell_type": "code",
   "execution_count": null,
   "metadata": {
    "collapsed": true
   },
   "outputs": [],
   "source": []
  }
 ],
 "metadata": {
  "kernelspec": {
   "display_name": "Python 3",
   "language": "python",
   "name": "python3"
  },
  "language_info": {
   "codemirror_mode": {
    "name": "ipython",
    "version": 3
   },
   "file_extension": ".py",
   "mimetype": "text/x-python",
   "name": "python",
   "nbconvert_exporter": "python",
   "pygments_lexer": "ipython3",
   "version": "3.4.5"
  }
 },
 "nbformat": 4,
 "nbformat_minor": 2
}
